{
 "cells": [
  {
   "cell_type": "markdown",
   "metadata": {},
   "source": [
    "```\n",
    "Author: Florian Wagner\n",
    "Email: florian.wagner@duke.edu\n",
    "```"
   ]
  },
  {
   "cell_type": "markdown",
   "metadata": {},
   "source": [
    "### Programs and third-party Python packages used"
   ]
  },
  {
   "cell_type": "code",
   "execution_count": 1,
   "metadata": {
    "collapsed": false
   },
   "outputs": [
    {
     "name": "stdout",
     "output_type": "stream",
     "text": [
      "Curl:\n",
      "curl 7.42.1 (x86_64-unknown-linux-gnu) libcurl/7.42.1 OpenSSL/1.0.2a zlib/1.2.8\n",
      "\n",
      "Python:\n",
      "Python 2.7.9\n",
      "\n",
      "Third-party Python packages:\n",
      "numpy 1.10.4\n",
      "scipy 0.15.1\n",
      "Cython 0.23.4\n",
      "genometools 1.2.2\n",
      "pyaffy 0.3rc1\n"
     ]
    }
   ],
   "source": [
    "from pkg_resources import require\n",
    "\n",
    "print 'Curl:'\n",
    "!curl --version | head -n 1\n",
    "print\n",
    "\n",
    "print 'Python:'\n",
    "!python -V\n",
    "print\n",
    "\n",
    "print 'Third-party Python packages:'\n",
    "print str(require('numpy')[0])\n",
    "print str(require('scipy')[0])\n",
    "print str(require('cython')[0])\n",
    "print str(require('genometools')[0])\n",
    "print str(require('pyaffy')[0])"
   ]
  },
  {
   "cell_type": "markdown",
   "metadata": {},
   "source": [
    "### Configuration"
   ]
  },
  {
   "cell_type": "code",
   "execution_count": 3,
   "metadata": {
    "collapsed": false
   },
   "outputs": [],
   "source": [
    "import os\n",
    "\n",
    "# data_dir: the directory in which downloaded data will be stored\n",
    "data_dir = './data/'\n",
    "# output_dir: the directory in which generated data will be stored\n",
    "output_dir = './output/'\n",
    "\n",
    "if not os.path.isdir(data_dir):\n",
    "    os.mkdir(data_dir)\n",
    "if not os.path.isdir(output_dir):\n",
    "    os.mkdir(output_dir)"
   ]
  },
  {
   "cell_type": "markdown",
   "metadata": {},
   "source": [
    "### Download data"
   ]
  },
  {
   "cell_type": "code",
   "execution_count": 4,
   "metadata": {
    "collapsed": false
   },
   "outputs": [
    {
     "name": "stdout",
     "output_type": "stream",
     "text": [
      "  % Total    % Received % Xferd  Average Speed   Time    Time     Time  Current\n",
      "                                 Dload  Upload   Total   Spent    Left  Speed\n",
      "100   506    0   506    0     0    882      0 --:--:-- --:--:-- --:--:--  1032\n",
      "100 48.3M  100 48.3M    0     0  3589k      0  0:00:13  0:00:13 --:--:-- 4021k\n",
      "  % Total    % Received % Xferd  Average Speed   Time    Time     Time  Current\n",
      "                                 Dload  Upload   Total   Spent    Left  Speed\n",
      "100   506    0   506    0     0    950      0 --:--:-- --:--:-- --:--:--   961\n",
      "100 5033k  100 5033k    0     0  2409k      0  0:00:02  0:00:02 --:--:-- 6395k\n",
      "  % Total    % Received % Xferd  Average Speed   Time    Time     Time  Current\n",
      "                                 Dload  Upload   Total   Spent    Left  Speed\n",
      "100   506    0   506    0     0   1116      0 --:--:-- --:--:-- --:--:--  1124\n",
      "100 4903k  100 4903k    0     0  2174k      0  0:00:02  0:00:02 --:--:-- 4309k\n"
     ]
    }
   ],
   "source": [
    "# Download CDF (annotation) file and CEL (data) files\n",
    "dropbox_folder_url = 'https://www.dropbox.com/sh/z8zafx9oogodky1/'\n",
    "    \n",
    "cdf_url = dropbox_folder_url + 'AACcuI150VSFWl4ji4_opG7Ba/HGU133Plus2_Hs_20_ENTREZG.cdf?dl=1'\n",
    "cdf_file = data_dir + 'HGU133Plus2_Hs_20_ENTREZG.cdf'\n",
    "!curl -L -o \"$cdf_file\" \"$cdf_url\"\n",
    "\n",
    "cel_url1 = dropbox_folder_url + 'AADBnMN8wFR-nao1Ze695Cmaa/AFX_2_A1.CEL.gz?dl=1'\n",
    "cel_file1 = data_dir + 'AFX_2_A1.CEL.gz'\n",
    "!curl -L -o \"$cel_file1\" \"$cel_url1\"\n",
    "\n",
    "cel_url2 = dropbox_folder_url + 'AADbbAoedfLqSvsgWnJZufLHa/AFX_2_A2.CEL.gz?dl=1'\n",
    "cel_file2 = data_dir + 'AFX_2_A2.CEL.gz'\n",
    "!curl -L -o \"$cel_file2\" \"$cel_url2\""
   ]
  },
  {
   "cell_type": "markdown",
   "metadata": {},
   "source": [
    "### Run pyAffy"
   ]
  },
  {
   "cell_type": "code",
   "execution_count": 6,
   "metadata": {
    "collapsed": false
   },
   "outputs": [
    {
     "name": "stdout",
     "output_type": "stream",
     "text": [
      "[2016-03-01 15:25:29] INFO: Parsing CDF file.\n",
      "[2016-03-01 15:25:30] INFO: CDF file parsing time: 1.02 s\n",
      "[2016-03-01 15:25:30] INFO: CDF array design name: HG-U133_Plus_2\n",
      "[2016-03-01 15:25:30] INFO: CDF rows / columns: 1164 x 1164\n",
      "[2016-03-01 15:25:30] INFO: Parsing CEL files...\n",
      "[2016-03-01 15:25:30] INFO: CEL files parsing time: 0.3 s.\n",
      "[2016-03-01 15:25:30] INFO: Performing background correction...\n",
      "[2016-03-01 15:25:31] INFO: Background correction time: 0.3 s.\n",
      "[2016-03-01 15:25:31] INFO: Performing quantile normalization...\n",
      "[2016-03-01 15:25:31] INFO: Quantile normalization time: 0.2 s.\n",
      "[2016-03-01 15:25:31] INFO: Summarize probeset intensities (with medianpolish)...\n",
      "[2016-03-01 15:25:45] INFO: Probeset summarization time: 13.86 s.\n",
      "[2016-03-01 15:25:45] INFO: Total RMA time: 15.7 s.\n",
      "100009676_at, 10000_at, 10001_at, 10002_at, 100038246_at\n",
      "Sample 1, Sample 2\n",
      "[[ 5.27478027  5.27498913]\n",
      " [ 5.97499847  5.96692753]\n",
      " [ 8.76105022  8.8299284 ]\n",
      " [ 4.63253212  4.52224636]\n",
      " [ 5.53205776  5.42527103]\n",
      " [ 4.781394    4.74629879]\n",
      " [ 4.06223822  4.10897875]\n",
      " [ 5.56318808  5.60135698]\n",
      " [ 5.877141    5.91398716]\n",
      " [ 7.94473028  7.79036856]]\n"
     ]
    }
   ],
   "source": [
    "from collections import OrderedDict\n",
    "from genometools import misc\n",
    "from pyaffy import rma\n",
    "\n",
    "misc.get_logger(verbose = False)\n",
    "\n",
    "sample_cel_files = OrderedDict([\n",
    "    ('Sample 1', cel_file1),\n",
    "    ('Sample 2', cel_file2)\n",
    "])\n",
    "\n",
    "genes, samples, X = rma(cdf_file, sample_cel_files)\n",
    "print ', '.join(genes[:5])\n",
    "print ', '.join(samples)\n",
    "print X[:10, :]"
   ]
  },
  {
   "cell_type": "markdown",
   "metadata": {},
   "source": [
    "## Copyright and License\n",
    "\n",
    "Copyright (c) 2016 Florian Wagner.\n",
    "\n",
    "This work is licensed under a [Creative Commons Attribution-NonCommercial-ShareAlike 4.0 International License](http://creativecommons.org/licenses/by-nc-sa/4.0/)."
   ]
  }
 ],
 "metadata": {
  "kernelspec": {
   "display_name": "Python 2",
   "language": "python",
   "name": "python2"
  },
  "language_info": {
   "codemirror_mode": {
    "name": "ipython",
    "version": 2
   },
   "file_extension": ".py",
   "mimetype": "text/x-python",
   "name": "python",
   "nbconvert_exporter": "python",
   "pygments_lexer": "ipython2",
   "version": "2.7.9"
  }
 },
 "nbformat": 4,
 "nbformat_minor": 0
}

{
 "cells": [
  {
   "cell_type": "markdown",
   "metadata": {},
   "source": [
    "## pyAffy demo \"`minimal`\"\n",
    "\n",
    "```\n",
    "Author: Florian Wagner\n",
    "Email: florian.wagner@duke.edu\n",
    "```\n",
    "\n",
    "### Summary\n",
    "This demo provides a minimal working example of how to use the [pyAffy](https://github.com/flo-compbio/gopca) Python package to process raw data from Affymetrix microarrays. Two samples (Site 2, Sample Type A, Replicates 1+2) from the [MAQC project](http://www.fda.gov/ScienceResearch/BioinformaticsTools/MicroarrayQualityControlProject/) are processed using a [Brainarray](http://brainarray.mbni.med.umich.edu/Brainarray/Database/CustomCDF/genomic_curated_CDF.asp) custom CDF file.\n",
    "\n",
    "### Re-running the demo\n",
    "Jupyter notebooks are inherently *executable*. It is therefore possible to re-run all the code in this demo, thereby reproducing all of the results shown. This currently requires that certain conditions are met:\n",
    "- The notebook is executed on a linux machine (since it contains bash commands and uses linux-specific commands like `curl`)\n",
    "- Jupyter is installed and a Jupyter server is running\n",
    "- The pyAffy Python package is installed (```pip install pyaffy```)\n",
    "\n",
    "\n",
    "### Copyright and License\n",
    "\n",
    "Copyright (c) 2016 Florian Wagner.\n",
    "\n",
    "This work is licensed under a [Creative Commons Attribution-NonCommercial-ShareAlike 4.0 International License](http://creativecommons.org/licenses/by-nc-sa/4.0/)."
   ]
  }
 ],
 "metadata": {
  "kernelspec": {
   "display_name": "Python 2",
   "language": "python",
   "name": "python2"
  },
  "language_info": {
   "codemirror_mode": {
    "name": "ipython",
    "version": 2
   },
   "file_extension": ".py",
   "mimetype": "text/x-python",
   "name": "python",
   "nbconvert_exporter": "python",
   "pygments_lexer": "ipython2",
   "version": "2.7.9"
  }
 },
 "nbformat": 4,
 "nbformat_minor": 0
}
